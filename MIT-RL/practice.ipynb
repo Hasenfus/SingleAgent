{
 "cells": [
  {
   "cell_type": "code",
   "execution_count": 1,
   "metadata": {},
   "outputs": [],
   "source": [
    "import numpy as np\n"
   ]
  },
  {
   "cell_type": "code",
   "execution_count": 2,
   "metadata": {},
   "outputs": [],
   "source": []
  },
  {
   "cell_type": "code",
   "execution_count": 114,
   "metadata": {},
   "outputs": [],
   "source": [
    "def ValueIteration(T, R, k, gamma):\n",
    "    V = np.zeros(T.shape[1])\n",
    "    Vk = np.zeros((k, T.shape[1]))\n",
    "    for i in range(k):\n",
    "        for s in range(T.shape[1]):\n",
    "            temp = 0\n",
    "            for j in range(T.shape[0]):\n",
    "                a = np.where(T[j][s] != 0)[0]\n",
    "                new = 0\n",
    "                # print(a)\n",
    "                for ai in a:\n",
    "                    new += T[j][s][ai.item()]*(R[s] + gamma * V[ai.item()])\n",
    "                    # print(a, new)\n",
    "                if new > temp:\n",
    "                    temp = new\n",
    "            Vk[i][s] = temp\n",
    "        V = Vk[i]\n",
    "    return V\n",
    "\n",
    "def QValueIteration(T, R, k, gamma):\n",
    "    Q = np.zeros((T.shape[0], T.shape[1]))\n",
    "    Qk = np.zeros((k, T.shape[0], T.shape[1]))\n",
    "    for i in range(k):\n",
    "        for s in range(T.shape[1]):\n",
    "            for a in range(T.shape[0]):\n",
    "                x = np.where(T[a][s] != 0)[0]\n",
    "                temp = 0\n",
    "                for xi in x:\n",
    "                    temp += T[a][s][xi.item()]*(R[s] + gamma * np.max(Q[xi.item()]))\n",
    "                Qk[i][a][s] = temp\n",
    "        Q = Qk[i]\n",
    "    return Q"
   ]
  },
  {
   "cell_type": "code",
   "execution_count": 118,
   "metadata": {},
   "outputs": [
    {
     "data": {
      "text/plain": [
       "array([[[0.5 , 0.5 , 0.  , 0.  , 0.  ],\n",
       "        [0.25, 0.5 , 0.25, 0.  , 0.  ],\n",
       "        [0.  , 0.25, 0.5 , 0.25, 0.  ],\n",
       "        [0.  , 0.  , 0.25, 0.5 , 0.25],\n",
       "        [0.  , 0.  , 0.  , 0.5 , 0.5 ]],\n",
       "\n",
       "       [[0.66, 0.33, 0.  , 0.  , 0.  ],\n",
       "        [0.  , 0.66, 0.33, 0.  , 0.  ],\n",
       "        [0.  , 0.  , 0.66, 0.33, 0.  ],\n",
       "        [0.  , 0.  , 0.  , 0.66, 0.33],\n",
       "        [0.  , 0.  , 0.  , 0.5 , 0.5 ]],\n",
       "\n",
       "       [[0.5 , 0.5 , 0.  , 0.  , 0.  ],\n",
       "        [0.33, 0.66, 0.  , 0.  , 0.  ],\n",
       "        [0.  , 0.33, 0.66, 0.  , 0.  ],\n",
       "        [0.  , 0.  , 0.33, 0.66, 0.  ],\n",
       "        [0.  , 0.  , 0.  , 0.33, 0.66]]])"
      ]
     },
     "execution_count": 118,
     "metadata": {},
     "output_type": "execute_result"
    }
   ],
   "source": [
    "T = np.zeros((3,5,5))\n",
    "for i in range(5):\n",
    "    T[0][i][i] = 1/2\n",
    "\n",
    "    if i == 4 :\n",
    "        T[0][i][i-1] = 1/2\n",
    "        T[2][i][i-1] = 0.33\n",
    "        T[2][i][i] = 0.66\n",
    "        T[1][i][i] = 0.50\n",
    "        T[1][i][i-1] = 0.50\n",
    "    if i == 0:\n",
    "        T[0][i][i+1] = 1/2\n",
    "        T[1][i][i+1] = 0.33\n",
    "        T[1][i][i] = 0.66\n",
    "        T[2][i][i] = 0.50\n",
    "        T[2][i][i+1] = 0.50\n",
    "    if i != 0 and i != 4:\n",
    "        T[0][i][i+1] = 1/4\n",
    "        T[0][i][i-1] = 1/4\n",
    "        T[1][i][i+1] = 0.33\n",
    "        T[2][i][i-1] = 0.33\n",
    "        T[1][i][i] = 0.66\n",
    "        T[2][i][i] = 0.66\n",
    "    \n",
    "T\n",
    "# ValueIteration(T, np.array([0,0,0,0,1]), 100, 0.5)"
   ]
  },
  {
   "cell_type": "code",
   "execution_count": 105,
   "metadata": {},
   "outputs": [
    {
     "name": "stdout",
     "output_type": "stream",
     "text": [
      "[1 3]\n",
      "1\n",
      "3\n"
     ]
    }
   ],
   "source": [
    "x = np.where(np.array([1,2,3,4,5]) % 2 == 0)[0]\n",
    "print(x)\n",
    "for i in x:\n",
    "    print(i)"
   ]
  },
  {
   "cell_type": "code",
   "execution_count": null,
   "metadata": {},
   "outputs": [],
   "source": []
  }
 ],
 "metadata": {
  "kernelspec": {
   "display_name": "RL",
   "language": "python",
   "name": "python3"
  },
  "language_info": {
   "codemirror_mode": {
    "name": "ipython",
    "version": 3
   },
   "file_extension": ".py",
   "mimetype": "text/x-python",
   "name": "python",
   "nbconvert_exporter": "python",
   "pygments_lexer": "ipython3",
   "version": "3.10.13"
  },
  "orig_nbformat": 4
 },
 "nbformat": 4,
 "nbformat_minor": 2
}
